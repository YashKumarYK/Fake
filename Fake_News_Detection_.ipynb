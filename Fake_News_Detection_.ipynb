{
 "cells": [
  {
   "cell_type": "markdown",
   "metadata": {
    "id": "VCAEel8zpbgO"
   },
   "source": [
    "# Fake and Real News Detection System "
   ]
  },
  {
   "cell_type": "code",
   "execution_count": 1,
   "metadata": {
    "id": "dEyy_9QmpOA3"
   },
   "outputs": [],
   "source": [
    "import pandas as pd\n",
    "import numpy as np\n",
    "import seaborn as sns\n",
    "import matplotlib.pyplot as plt\n",
    "import nltk\n",
    "import re"
   ]
  },
  {
   "cell_type": "code",
   "execution_count": 2,
   "metadata": {
    "id": "6XUlp443qDsP"
   },
   "outputs": [],
   "source": [
    "import tensorflow\n",
    "\n",
    "#for padding when the dataset is not long enough\n",
    "from keras.preprocessing.sequence import pad_sequences\n",
    "\n",
    "#for tokenization\n",
    "from keras.preprocessing.text import Tokenizer  \n",
    "\n",
    "#for splitting the data into test and train sets\n",
    "from sklearn.model_selection import train_test_split\n",
    "\n",
    "#for the model structure \n",
    "from keras.models import Sequential\n",
    "from keras.layers import Dense, Embedding, LSTM, Conv1D, MaxPool1D\n",
    "\n",
    "from sklearn.metrics import classification_report, accuracy_score\n"
   ]
  },
  {
   "cell_type": "code",
   "execution_count": 3,
   "metadata": {
    "id": "gNHurviLsI2Y",
    "scrolled": true
   },
   "outputs": [
    {
     "name": "stderr",
     "output_type": "stream",
     "text": [
      "C:\\Users\\harsh\\anaconda3\\lib\\site-packages\\IPython\\core\\interactiveshell.py:3165: DtypeWarning: Columns (4,5,6,7,8,9,10,11,12,13,14,15,16,17,18,19,20,21,22,23,24,25,26,27,28,29,30,31,32,33,34,35,36,37,38,39,40,41,42,43,44,45,46,47,48,49,50,51,52,53,54,55,56,57,58,59,60,61,62,63,64,65,66,67,68,69,70,71,72,73,74,75,76,77,78,79,80,81,82,83,84,85,86,87,88,89,90,91,92,93,94,95,96,97,98,99,100,101,102,103,104,105,106,107,108,109,110,111,112,113,114,115,116,117,118,119,120,121,122,123,124,125,126,127,128,129,130,131,132,133,134,135,136,137,138,139,140,141,142,143,144,145,146,147,148,149,150,151,152,153,154,155,156,157,158,159,160,161,162,163,164,165,166,167,168,169,170,171) have mixed types.Specify dtype option on import or set low_memory=False.\n",
      "  has_raised = await self.run_ast_nodes(code_ast.body, cell_name,\n"
     ]
    }
   ],
   "source": [
    "fake_df = pd.read_csv('Fake.csv',error_bad_lines=False)\n",
    "true_df = pd.read_csv('True.csv',error_bad_lines=False)"
   ]
  },
  {
   "cell_type": "markdown",
   "metadata": {
    "id": "GnTcnDn45uuJ"
   },
   "source": [
    "## Data cleaning"
   ]
  },
  {
   "cell_type": "code",
   "execution_count": 4,
   "metadata": {
    "id": "64Q3I1urvEu5"
   },
   "outputs": [],
   "source": [
    "unknown_publishers = []\n",
    "for index, row in enumerate( true_df.text.values):\n",
    "  try:\n",
    "    record = row.split('-', maxsplit= 1)\n",
    "    record[1]\n",
    "    assert(len(record[0])<120)\n",
    "  except:\n",
    "    unknown_publishers.append(index)"
   ]
  },
  {
   "cell_type": "code",
   "execution_count": 5,
   "metadata": {
    "id": "QduA105b-R1V"
   },
   "outputs": [
    {
     "data": {
      "text/plain": [
       "223"
      ]
     },
     "execution_count": 5,
     "metadata": {},
     "output_type": "execute_result"
    }
   ],
   "source": [
    "len(unknown_publishers)"
   ]
  },
  {
   "cell_type": "code",
   "execution_count": 6,
   "metadata": {
    "id": "0RJdeLU8yNtp"
   },
   "outputs": [
    {
     "data": {
      "text/plain": [
       "7        The following statementsÂ were posted to the v...\n",
       "8        The following statementsÂ were posted to the v...\n",
       "12       The following statementsÂ were posted to the v...\n",
       "13       The following statementsÂ were posted to the v...\n",
       "14        (In Dec. 25 story, in second paragraph, corre...\n",
       "                               ...                        \n",
       "20135     (Story corrects to million from billion in pa...\n",
       "20500     (This Sept 8 story corrects headline, clarifi...\n",
       "20667     (Story refiles to add dropped word  not , in ...\n",
       "21246     (Story corrects third paragraph to show Mosul...\n",
       "21339     (Story corrects to fix spelling in paragraph ...\n",
       "Name: text, Length: 223, dtype: object"
      ]
     },
     "execution_count": 6,
     "metadata": {},
     "output_type": "execute_result"
    }
   ],
   "source": [
    "true_df.iloc[unknown_publishers].text"
   ]
  },
  {
   "cell_type": "code",
   "execution_count": 7,
   "metadata": {
    "id": "2Ct-Lum1AH9K"
   },
   "outputs": [],
   "source": [
    "#dropping the row which dont have the contextual data,  that is at the index = 8970 \n",
    "true_df = true_df.drop(8970, axis=0)"
   ]
  },
  {
   "cell_type": "code",
   "execution_count": 8,
   "metadata": {
    "id": "VWh4Gcjp7-fy"
   },
   "outputs": [],
   "source": [
    "publisher = []\n",
    "temp_text =[]\n",
    "\n",
    "for index, row in enumerate(true_df.text.values):\n",
    "  if index in unknown_publishers:\n",
    "    temp_text.append(row)\n",
    "    publisher.append('Unknown')\n",
    "  else:\n",
    "    record = row.split('-', maxsplit = 1)\n",
    "    publisher.append(record[0].strip())\n",
    "    temp_text.append(record[1].strip()) "
   ]
  },
  {
   "cell_type": "code",
   "execution_count": 9,
   "metadata": {
    "id": "0-6SFh5LFxie"
   },
   "outputs": [],
   "source": [
    "true_df['publisher'] = publisher\n",
    "true_df['text']= temp_text"
   ]
  },
  {
   "cell_type": "code",
   "execution_count": 10,
   "metadata": {
    "id": "SOEKgdw-GI3q"
   },
   "outputs": [
    {
     "data": {
      "text/html": [
       "<div>\n",
       "<style scoped>\n",
       "    .dataframe tbody tr th:only-of-type {\n",
       "        vertical-align: middle;\n",
       "    }\n",
       "\n",
       "    .dataframe tbody tr th {\n",
       "        vertical-align: top;\n",
       "    }\n",
       "\n",
       "    .dataframe thead th {\n",
       "        text-align: right;\n",
       "    }\n",
       "</style>\n",
       "<table border=\"1\" class=\"dataframe\">\n",
       "  <thead>\n",
       "    <tr style=\"text-align: right;\">\n",
       "      <th></th>\n",
       "      <th>title</th>\n",
       "      <th>text</th>\n",
       "      <th>subject</th>\n",
       "      <th>date</th>\n",
       "      <th>publisher</th>\n",
       "    </tr>\n",
       "  </thead>\n",
       "  <tbody>\n",
       "    <tr>\n",
       "      <th>0</th>\n",
       "      <td>As U.S. budget fight looms, Republicans flip t...</td>\n",
       "      <td>The head of a conservative Republican faction ...</td>\n",
       "      <td>politicsNews</td>\n",
       "      <td>December 31, 2017</td>\n",
       "      <td>WASHINGTON (Reuters)</td>\n",
       "    </tr>\n",
       "    <tr>\n",
       "      <th>1</th>\n",
       "      <td>U.S. military to accept transgender recruits o...</td>\n",
       "      <td>Transgender people will be allowed for the fir...</td>\n",
       "      <td>politicsNews</td>\n",
       "      <td>December 29, 2017</td>\n",
       "      <td>WASHINGTON (Reuters)</td>\n",
       "    </tr>\n",
       "    <tr>\n",
       "      <th>2</th>\n",
       "      <td>Senior U.S. Republican senator: 'Let Mr. Muell...</td>\n",
       "      <td>The special counsel investigation of links bet...</td>\n",
       "      <td>politicsNews</td>\n",
       "      <td>December 31, 2017</td>\n",
       "      <td>WASHINGTON (Reuters)</td>\n",
       "    </tr>\n",
       "    <tr>\n",
       "      <th>3</th>\n",
       "      <td>FBI Russia probe helped by Australian diplomat...</td>\n",
       "      <td>Trump campaign adviser George Papadopoulos tol...</td>\n",
       "      <td>politicsNews</td>\n",
       "      <td>December 30, 2017</td>\n",
       "      <td>WASHINGTON (Reuters)</td>\n",
       "    </tr>\n",
       "    <tr>\n",
       "      <th>4</th>\n",
       "      <td>Trump wants Postal Service to charge 'much mor...</td>\n",
       "      <td>President Donald Trump called on the U.S. Post...</td>\n",
       "      <td>politicsNews</td>\n",
       "      <td>December 29, 2017</td>\n",
       "      <td>SEATTLE/WASHINGTON (Reuters)</td>\n",
       "    </tr>\n",
       "  </tbody>\n",
       "</table>\n",
       "</div>"
      ],
      "text/plain": [
       "                                               title  \\\n",
       "0  As U.S. budget fight looms, Republicans flip t...   \n",
       "1  U.S. military to accept transgender recruits o...   \n",
       "2  Senior U.S. Republican senator: 'Let Mr. Muell...   \n",
       "3  FBI Russia probe helped by Australian diplomat...   \n",
       "4  Trump wants Postal Service to charge 'much mor...   \n",
       "\n",
       "                                                text       subject  \\\n",
       "0  The head of a conservative Republican faction ...  politicsNews   \n",
       "1  Transgender people will be allowed for the fir...  politicsNews   \n",
       "2  The special counsel investigation of links bet...  politicsNews   \n",
       "3  Trump campaign adviser George Papadopoulos tol...  politicsNews   \n",
       "4  President Donald Trump called on the U.S. Post...  politicsNews   \n",
       "\n",
       "                 date                     publisher  \n",
       "0  December 31, 2017           WASHINGTON (Reuters)  \n",
       "1  December 29, 2017           WASHINGTON (Reuters)  \n",
       "2  December 31, 2017           WASHINGTON (Reuters)  \n",
       "3  December 30, 2017           WASHINGTON (Reuters)  \n",
       "4  December 29, 2017   SEATTLE/WASHINGTON (Reuters)  "
      ]
     },
     "execution_count": 10,
     "metadata": {},
     "output_type": "execute_result"
    }
   ],
   "source": [
    "true_df.head()"
   ]
  },
  {
   "cell_type": "code",
   "execution_count": 11,
   "metadata": {
    "id": "YBhP7YtCILdF"
   },
   "outputs": [
    {
     "data": {
      "text/plain": [
       "array(['title', 'text', 'subject', 'date', 'Unnamed: 4', 'Unnamed: 5',\n",
       "       'Unnamed: 6', 'Unnamed: 7', 'Unnamed: 8', 'Unnamed: 9',\n",
       "       'Unnamed: 10', 'Unnamed: 11', 'Unnamed: 12', 'Unnamed: 13',\n",
       "       'Unnamed: 14', 'Unnamed: 15', 'Unnamed: 16', 'Unnamed: 17',\n",
       "       'Unnamed: 18', 'Unnamed: 19', 'Unnamed: 20', 'Unnamed: 21',\n",
       "       'Unnamed: 22', 'Unnamed: 23', 'Unnamed: 24', 'Unnamed: 25',\n",
       "       'Unnamed: 26', 'Unnamed: 27', 'Unnamed: 28', 'Unnamed: 29',\n",
       "       'Unnamed: 30', 'Unnamed: 31', 'Unnamed: 32', 'Unnamed: 33',\n",
       "       'Unnamed: 34', 'Unnamed: 35', 'Unnamed: 36', 'Unnamed: 37',\n",
       "       'Unnamed: 38', 'Unnamed: 39', 'Unnamed: 40', 'Unnamed: 41',\n",
       "       'Unnamed: 42', 'Unnamed: 43', 'Unnamed: 44', 'Unnamed: 45',\n",
       "       'Unnamed: 46', 'Unnamed: 47', 'Unnamed: 48', 'Unnamed: 49',\n",
       "       'Unnamed: 50', 'Unnamed: 51', 'Unnamed: 52', 'Unnamed: 53',\n",
       "       'Unnamed: 54', 'Unnamed: 55', 'Unnamed: 56', 'Unnamed: 57',\n",
       "       'Unnamed: 58', 'Unnamed: 59', 'Unnamed: 60', 'Unnamed: 61',\n",
       "       'Unnamed: 62', 'Unnamed: 63', 'Unnamed: 64', 'Unnamed: 65',\n",
       "       'Unnamed: 66', 'Unnamed: 67', 'Unnamed: 68', 'Unnamed: 69',\n",
       "       'Unnamed: 70', 'Unnamed: 71', 'Unnamed: 72', 'Unnamed: 73',\n",
       "       'Unnamed: 74', 'Unnamed: 75', 'Unnamed: 76', 'Unnamed: 77',\n",
       "       'Unnamed: 78', 'Unnamed: 79', 'Unnamed: 80', 'Unnamed: 81',\n",
       "       'Unnamed: 82', 'Unnamed: 83', 'Unnamed: 84', 'Unnamed: 85',\n",
       "       'Unnamed: 86', 'Unnamed: 87', 'Unnamed: 88', 'Unnamed: 89',\n",
       "       'Unnamed: 90', 'Unnamed: 91', 'Unnamed: 92', 'Unnamed: 93',\n",
       "       'Unnamed: 94', 'Unnamed: 95', 'Unnamed: 96', 'Unnamed: 97',\n",
       "       'Unnamed: 98', 'Unnamed: 99', 'Unnamed: 100', 'Unnamed: 101',\n",
       "       'Unnamed: 102', 'Unnamed: 103', 'Unnamed: 104', 'Unnamed: 105',\n",
       "       'Unnamed: 106', 'Unnamed: 107', 'Unnamed: 108', 'Unnamed: 109',\n",
       "       'Unnamed: 110', 'Unnamed: 111', 'Unnamed: 112', 'Unnamed: 113',\n",
       "       'Unnamed: 114', 'Unnamed: 115', 'Unnamed: 116', 'Unnamed: 117',\n",
       "       'Unnamed: 118', 'Unnamed: 119', 'Unnamed: 120', 'Unnamed: 121',\n",
       "       'Unnamed: 122', 'Unnamed: 123', 'Unnamed: 124', 'Unnamed: 125',\n",
       "       'Unnamed: 126', 'Unnamed: 127', 'Unnamed: 128', 'Unnamed: 129',\n",
       "       'Unnamed: 130', 'Unnamed: 131', 'Unnamed: 132', 'Unnamed: 133',\n",
       "       'Unnamed: 134', 'Unnamed: 135', 'Unnamed: 136', 'Unnamed: 137',\n",
       "       'Unnamed: 138', 'Unnamed: 139', 'Unnamed: 140', 'Unnamed: 141',\n",
       "       'Unnamed: 142', 'Unnamed: 143', 'Unnamed: 144', 'Unnamed: 145',\n",
       "       'Unnamed: 146', 'Unnamed: 147', 'Unnamed: 148', 'Unnamed: 149',\n",
       "       'Unnamed: 150', 'Unnamed: 151', 'Unnamed: 152', 'Unnamed: 153',\n",
       "       'Unnamed: 154', 'Unnamed: 155', 'Unnamed: 156', 'Unnamed: 157',\n",
       "       'Unnamed: 158', 'Unnamed: 159', 'Unnamed: 160', 'Unnamed: 161',\n",
       "       'Unnamed: 162', 'Unnamed: 163', 'Unnamed: 164', 'Unnamed: 165',\n",
       "       'Unnamed: 166', 'Unnamed: 167', 'Unnamed: 168', 'Unnamed: 169',\n",
       "       'Unnamed: 170', 'Unnamed: 171'], dtype=object)"
      ]
     },
     "execution_count": 11,
     "metadata": {},
     "output_type": "execute_result"
    }
   ],
   "source": [
    "fake_df.columns.values"
   ]
  },
  {
   "cell_type": "code",
   "execution_count": 12,
   "metadata": {
    "id": "SX2wi85DGKPO"
   },
   "outputs": [],
   "source": [
    "# storing the indices fo which the 'text' is empty in the fake_df\n",
    "empty_fake_index = [index for index, text in enumerate( fake_df.text.tolist()) if str(text).strip()== \"\"]"
   ]
  },
  {
   "cell_type": "code",
   "execution_count": 13,
   "metadata": {
    "id": "U8P7uJ03IFDv"
   },
   "outputs": [],
   "source": [
    "true_df['text'] = true_df['title']+ \" \"+ true_df['text']\n",
    "fake_df['text'] = fake_df['title'] + \" \" + fake_df['text']"
   ]
  },
  {
   "cell_type": "code",
   "execution_count": 14,
   "metadata": {
    "id": "RGhBZmL-KuRG"
   },
   "outputs": [],
   "source": [
    "true_df['text'] = true_df['text'].apply(lambda x: str(x).lower())\n",
    "fake_df['text'] = fake_df['text'].apply(lambda x: str(x).lower())"
   ]
  },
  {
   "cell_type": "markdown",
   "metadata": {
    "id": "juagxX45LU0o"
   },
   "source": [
    "## Preprocessing Text"
   ]
  },
  {
   "cell_type": "code",
   "execution_count": 15,
   "metadata": {
    "id": "rw_m6_2rLS1e"
   },
   "outputs": [],
   "source": [
    "true_df['class'] = 1\n",
    "fake_df['class'] = 0"
   ]
  },
  {
   "cell_type": "code",
   "execution_count": 16,
   "metadata": {
    "id": "Fk9MaOUdOxl6"
   },
   "outputs": [],
   "source": [
    "true_df = true_df[['text', 'class']]\n",
    "fake_df = fake_df[['text', 'class']]\n",
    "\n",
    "data= true_df.append(fake_df, ignore_index = True)"
   ]
  },
  {
   "cell_type": "code",
   "execution_count": 17,
   "metadata": {
    "id": "RlDM9x4WP4__"
   },
   "outputs": [],
   "source": [
    "import re"
   ]
  },
  {
   "cell_type": "code",
   "execution_count": 18,
   "metadata": {
    "id": "0fu1adb3cd7H"
   },
   "outputs": [
    {
     "data": {
      "text/plain": [
       "'howmuchforthemaplesyrup2099Thatsridiculous'"
      ]
     },
     "execution_count": 18,
     "metadata": {},
     "output_type": "execute_result"
    }
   ],
   "source": [
    "re.sub('\\W+','','how much for the maple syrup? $20.99? That s ridiculous!!!')"
   ]
  },
  {
   "cell_type": "code",
   "execution_count": 19,
   "metadata": {
    "id": "oE8blyW8cxeX"
   },
   "outputs": [],
   "source": [
    "def remove_special_char(x):\n",
    "  x = re.sub(r'[^\\w ]+', \"\", x)\n",
    "  x = ' '.join(x.split())\n",
    "  return x"
   ]
  },
  {
   "cell_type": "code",
   "execution_count": 20,
   "metadata": {
    "id": "_R4-4e6OkeOD"
   },
   "outputs": [],
   "source": [
    "data['text'] = data['text'].apply(lambda x: remove_special_char(x))"
   ]
  },
  {
   "cell_type": "code",
   "execution_count": 21,
   "metadata": {
    "id": "Du_SSmY_kxID"
   },
   "outputs": [
    {
     "data": {
      "text/html": [
       "<div>\n",
       "<style scoped>\n",
       "    .dataframe tbody tr th:only-of-type {\n",
       "        vertical-align: middle;\n",
       "    }\n",
       "\n",
       "    .dataframe tbody tr th {\n",
       "        vertical-align: top;\n",
       "    }\n",
       "\n",
       "    .dataframe thead th {\n",
       "        text-align: right;\n",
       "    }\n",
       "</style>\n",
       "<table border=\"1\" class=\"dataframe\">\n",
       "  <thead>\n",
       "    <tr style=\"text-align: right;\">\n",
       "      <th></th>\n",
       "      <th>text</th>\n",
       "      <th>class</th>\n",
       "    </tr>\n",
       "  </thead>\n",
       "  <tbody>\n",
       "    <tr>\n",
       "      <th>8430</th>\n",
       "      <td>hackers targeted trump campaign republican par...</td>\n",
       "      <td>1</td>\n",
       "    </tr>\n",
       "    <tr>\n",
       "      <th>42706</th>\n",
       "      <td>outrageous top15 examples of how radical weâve...</td>\n",
       "      <td>0</td>\n",
       "    </tr>\n",
       "    <tr>\n",
       "      <th>40025</th>\n",
       "      <td>ca state legislators want traffic fines to be ...</td>\n",
       "      <td>0</td>\n",
       "    </tr>\n",
       "    <tr>\n",
       "      <th>1158</th>\n",
       "      <td>tillerson to visit pakistan as well as india s...</td>\n",
       "      <td>1</td>\n",
       "    </tr>\n",
       "    <tr>\n",
       "      <th>8838</th>\n",
       "      <td>obama to broach syria russia brexit at nato su...</td>\n",
       "      <td>1</td>\n",
       "    </tr>\n",
       "    <tr>\n",
       "      <th>4405</th>\n",
       "      <td>russia calls for emergency un meeting after us...</td>\n",
       "      <td>1</td>\n",
       "    </tr>\n",
       "    <tr>\n",
       "      <th>3828</th>\n",
       "      <td>us house tax committee sets first hearing on t...</td>\n",
       "      <td>1</td>\n",
       "    </tr>\n",
       "    <tr>\n",
       "      <th>13803</th>\n",
       "      <td>queensland result leaves australian pm closer ...</td>\n",
       "      <td>1</td>\n",
       "    </tr>\n",
       "    <tr>\n",
       "      <th>39448</th>\n",
       "      <td>msnbc reporter shocked after leftists call for...</td>\n",
       "      <td>0</td>\n",
       "    </tr>\n",
       "    <tr>\n",
       "      <th>3577</th>\n",
       "      <td>us treasury sees business taxes as fruitful gr...</td>\n",
       "      <td>1</td>\n",
       "    </tr>\n",
       "  </tbody>\n",
       "</table>\n",
       "</div>"
      ],
      "text/plain": [
       "                                                    text  class\n",
       "8430   hackers targeted trump campaign republican par...      1\n",
       "42706  outrageous top15 examples of how radical weâve...      0\n",
       "40025  ca state legislators want traffic fines to be ...      0\n",
       "1158   tillerson to visit pakistan as well as india s...      1\n",
       "8838   obama to broach syria russia brexit at nato su...      1\n",
       "4405   russia calls for emergency un meeting after us...      1\n",
       "3828   us house tax committee sets first hearing on t...      1\n",
       "13803  queensland result leaves australian pm closer ...      1\n",
       "39448  msnbc reporter shocked after leftists call for...      0\n",
       "3577   us treasury sees business taxes as fruitful gr...      1"
      ]
     },
     "execution_count": 21,
     "metadata": {},
     "output_type": "execute_result"
    }
   ],
   "source": [
    "data.sample(10)"
   ]
  },
  {
   "cell_type": "markdown",
   "metadata": {
    "id": "cDLDVsTfovWB"
   },
   "source": [
    "## Vectorization -- Word2Vec"
   ]
  },
  {
   "cell_type": "code",
   "execution_count": 23,
   "metadata": {
    "id": "znuy7o-anaJe"
   },
   "outputs": [
    {
     "name": "stdout",
     "output_type": "stream",
     "text": [
      "Collecting gensim\n",
      "  Downloading gensim-4.1.2-cp38-cp38-win_amd64.whl (24.0 MB)\n",
      "Requirement already satisfied: Cython==0.29.23 in c:\\users\\harsh\\anaconda3\\lib\\site-packages (from gensim) (0.29.23)\n",
      "Collecting smart-open>=1.8.1\n",
      "  Using cached smart_open-5.2.1-py3-none-any.whl (58 kB)\n",
      "Requirement already satisfied: scipy>=0.18.1 in c:\\users\\harsh\\anaconda3\\lib\\site-packages (from gensim) (1.6.2)\n",
      "Requirement already satisfied: numpy>=1.17.0 in c:\\users\\harsh\\anaconda3\\lib\\site-packages (from gensim) (1.20.1)\n",
      "Installing collected packages: smart-open, gensim\n",
      "Successfully installed gensim-4.1.2 smart-open-5.2.1\n"
     ]
    }
   ],
   "source": [
    "!pip install gensim\n",
    "import gensim"
   ]
  },
  {
   "cell_type": "code",
   "execution_count": 24,
   "metadata": {
    "id": "KUIhWTxppXvZ"
   },
   "outputs": [],
   "source": [
    "y = data['class'].values"
   ]
  },
  {
   "cell_type": "code",
   "execution_count": 25,
   "metadata": {
    "id": "fK1AksM8pcTw"
   },
   "outputs": [],
   "source": [
    "#list comprehension method\n",
    "X= [d.split() for d in data['text'].tolist()]"
   ]
  },
  {
   "cell_type": "code",
   "execution_count": 31,
   "metadata": {
    "id": "ny0vw9m4phZV"
   },
   "outputs": [],
   "source": [
    "DIM = 100\n",
    "w2v_model = gensim.models.Word2Vec(sentences= X, vector_size = DIM, window= 10, min_count=1)"
   ]
  },
  {
   "cell_type": "code",
   "execution_count": 33,
   "metadata": {
    "id": "1xizvuieuHBT"
   },
   "outputs": [],
   "source": [
    "tokenizer = Tokenizer()\n",
    "tokenizer.fit_on_texts(X)"
   ]
  },
  {
   "cell_type": "code",
   "execution_count": 34,
   "metadata": {
    "id": "7i5--VFuvR87"
   },
   "outputs": [],
   "source": [
    "X= tokenizer.texts_to_sequences(X)"
   ]
  },
  {
   "cell_type": "code",
   "execution_count": 35,
   "metadata": {
    "colab": {
     "base_uri": "https://localhost:8080/",
     "height": 265
    },
    "id": "2YkQC8bjvUnH",
    "outputId": "dfbf64e7-5a9d-46bb-f51a-76fdcd080eb7"
   },
   "outputs": [
    {
     "data": {
      "image/png": "[encoded data removed]",
      "text/plain": [
       "<Figure size 432x288 with 1 Axes>"
      ]
     },
     "metadata": {
      "needs_background": "light"
     },
     "output_type": "display_data"
    }
   ],
   "source": [
    "plt.hist([len(x) for x in X], bins = 700)\n",
    "plt.show()"
   ]
  },
  {
   "cell_type": "code",
   "execution_count": 36,
   "metadata": {
    "colab": {
     "base_uri": "https://localhost:8080/"
    },
    "id": "oWB88ej2voXE",
    "outputId": "de96297f-a33d-471c-a745-b657b5d29ac2"
   },
   "outputs": [
    {
     "data": {
      "text/plain": [
       "1583"
      ]
     },
     "execution_count": 36,
     "metadata": {},
     "output_type": "execute_result"
    }
   ],
   "source": [
    "nos = np.array([len(x) for x in X])\n",
    "len( nos[nos>1000])"
   ]
  },
  {
   "cell_type": "code",
   "execution_count": 37,
   "metadata": {
    "id": "tG8-DXukx4lT"
   },
   "outputs": [],
   "source": [
    "max_len = 1000\n",
    "X= pad_sequences(X, maxlen = max_len)"
   ]
  },
  {
   "cell_type": "code",
   "execution_count": 38,
   "metadata": {
    "id": "F-XFJuafySMa"
   },
   "outputs": [],
   "source": [
    "vocab_size = len(tokenizer.word_index) + 1\n",
    "vocab = tokenizer.word_index"
   ]
  },
  {
   "cell_type": "code",
   "execution_count": 39,
   "metadata": {
    "id": "3aHkS0sH2FkD"
   },
   "outputs": [],
   "source": [
    "def get_weight_matrix(model):\n",
    "  weight_matrix = np.zeros((vocab_size, DIM))\n",
    "\n",
    "  for word, i in vocab.items():\n",
    "    weight_matrix[i]= model.wv[word]\n",
    "  \n",
    "  return weight_matrix"
   ]
  },
  {
   "cell_type": "code",
   "execution_count": 40,
   "metadata": {
    "id": "Dsdpcc-a2bET"
   },
   "outputs": [],
   "source": [
    "embedding_vector = get_weight_matrix(w2v_model)"
   ]
  },
  {
   "cell_type": "code",
   "execution_count": 41,
   "metadata": {
    "id": "IUi8yOqp2gVM"
   },
   "outputs": [],
   "source": [
    "# creating the model \n",
    "\n",
    "model= Sequential()\n",
    "model.add(Embedding(vocab_size, output_dim = DIM, weights = [embedding_vector], input_length= max_len, trainable = False))\n",
    "model.add(LSTM(units = 128))\n",
    "model.add(Dense(1, activation = 'sigmoid'))\n",
    "model.compile(optimizer = 'adam', loss = 'binary_crossentropy', metrics = ['acc'])"
   ]
  },
  {
   "cell_type": "code",
   "execution_count": 42,
   "metadata": {
    "colab": {
     "base_uri": "https://localhost:8080/"
    },
    "id": "vi0_Lbxa2nSo",
    "outputId": "cd6c162a-9e6a-4fe4-b0cc-24a7a177b7ff"
   },
   "outputs": [
    {
     "name": "stdout",
     "output_type": "stream",
     "text": [
      "Model: \"sequential\"\n",
      "_________________________________________________________________\n",
      " Layer (type)                Output Shape              Param #   \n",
      "=================================================================\n",
      " embedding (Embedding)       (None, 1000, 100)         25251700  \n",
      "                                                                 \n",
      " lstm (LSTM)                 (None, 128)               117248    \n",
      "                                                                 \n",
      " dense (Dense)               (None, 1)                 129       \n",
      "                                                                 \n",
      "=================================================================\n",
      "Total params: 25,369,077\n",
      "Trainable params: 117,377\n",
      "Non-trainable params: 25,251,700\n",
      "_________________________________________________________________\n"
     ]
    }
   ],
   "source": [
    "model.summary()"
   ]
  },
  {
   "cell_type": "code",
   "execution_count": 43,
   "metadata": {
    "id": "FhCRmMdb37k0"
   },
   "outputs": [],
   "source": [
    "X_train, X_test, y_train, y_test = train_test_split(X,y)"
   ]
  },
  {
   "cell_type": "code",
   "execution_count": 44,
   "metadata": {
    "colab": {
     "base_uri": "https://localhost:8080/"
    },
    "id": "q8h2KTDS4JXM",
    "outputId": "bdd15b51-73a3-45f3-f87b-960b506fbebf"
   },
   "outputs": [
    {
     "name": "stdout",
     "output_type": "stream",
     "text": [
      "Epoch 1/6\n",
      "737/737 [==============================] - 430s 582ms/step - loss: 0.1384 - acc: 0.9505 - val_loss: 0.0766 - val_acc: 0.9759\n",
      "Epoch 2/6\n",
      "737/737 [==============================] - 422s 572ms/step - loss: 0.0698 - acc: 0.9768 - val_loss: 0.0633 - val_acc: 0.9786\n",
      "Epoch 3/6\n",
      "737/737 [==============================] - 445s 604ms/step - loss: 0.0511 - acc: 0.9832 - val_loss: 0.0550 - val_acc: 0.9827\n",
      "Epoch 4/6\n",
      "737/737 [==============================] - 459s 622ms/step - loss: 0.0399 - acc: 0.9877 - val_loss: 0.0304 - val_acc: 0.9909\n",
      "Epoch 5/6\n",
      "737/737 [==============================] - 459s 623ms/step - loss: 0.0241 - acc: 0.9918 - val_loss: 0.0262 - val_acc: 0.9917\n",
      "Epoch 6/6\n",
      "737/737 [==============================] - 445s 604ms/step - loss: 0.0096 - acc: 0.9968 - val_loss: 0.0194 - val_acc: 0.9946\n"
     ]
    },
    {
     "data": {
      "text/plain": [
       "<keras.callbacks.History at 0x196e4d4fa30>"
      ]
     },
     "execution_count": 44,
     "metadata": {},
     "output_type": "execute_result"
    }
   ],
   "source": [
    "model.fit(X_train, y_train, validation_split= 0.3, epochs = 6 )"
   ]
  },
  {
   "cell_type": "code",
   "execution_count": 45,
   "metadata": {
    "id": "j8e1T8dz4VWo"
   },
   "outputs": [],
   "source": [
    "y_pred = (model.predict(X_test) >=0.5).astype(int)"
   ]
  },
  {
   "cell_type": "code",
   "execution_count": 46,
   "metadata": {
    "id": "f3xokSCucRsq"
   },
   "outputs": [
    {
     "data": {
      "text/plain": [
       "0.9924309884238647"
      ]
     },
     "execution_count": 46,
     "metadata": {},
     "output_type": "execute_result"
    }
   ],
   "source": [
    "accuracy_score(y_test, y_pred)"
   ]
  },
  {
   "cell_type": "code",
   "execution_count": 47,
   "metadata": {
    "id": "iZ3Eb7U_ccPW"
   },
   "outputs": [
    {
     "name": "stdout",
     "output_type": "stream",
     "text": [
      "              precision    recall  f1-score   support\n",
      "\n",
      "           0       1.00      0.99      0.99      5896\n",
      "           1       0.99      0.99      0.99      5334\n",
      "\n",
      "    accuracy                           0.99     11230\n",
      "   macro avg       0.99      0.99      0.99     11230\n",
      "weighted avg       0.99      0.99      0.99     11230\n",
      "\n"
     ]
    }
   ],
   "source": [
    "print(classification_report(y_test, y_pred))"
   ]
  },
  {
   "cell_type": "code",
   "execution_count": null,
   "metadata": {
    "id": "7oSomQHRcggy"
   },
   "outputs": [],
   "source": []
  }
 ],
 "metadata": {
  "accelerator": "GPU",
  "colab": {
   "name": "Fake News Detection .ipynb",
   "provenance": []
  },
  "kernelspec": {
   "display_name": "Python 3",
   "language": "python",
   "name": "python3"
  },
  "language_info": {
   "codemirror_mode": {
    "name": "ipython",
    "version": 3
   },
   "file_extension": ".py",
   "mimetype": "text/x-python",
   "name": "python",
   "nbconvert_exporter": "python",
   "pygments_lexer": "ipython3",
   "version": "3.8.8"
  }
 },
 "nbformat": 4,
 "nbformat_minor": 1
}
